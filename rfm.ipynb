{
 "cells": [
  {
   "cell_type": "markdown",
   "metadata": {},
   "source": [
    "# Modelo RFM\n",
    "\n",
    "El modelo RFM (Recency, Frequency, Monetary) es una técnica ampliamente utilizada en análisis de clientes para segmentarlos en función de tres factores:\n",
    "\n",
    "- **Recency (R)**: Cuánto tiempo ha pasado desde la última compra del cliente.\n",
    "- **Frequency (F)**: Cuántas compras ha realizado el cliente en un período de tiempo determinado.\n",
    "- **Monetary (M)**: Cuánto ha gastado el cliente en total.\n",
    "\n",
    "Para crear el modelo RFM, seguiré los siguientes pasos:\n",
    "\n",
    "1. **Recency (R)**: Calculará el número de días desde la última compra (fecha de entrega) para cada cliente.\n",
    "2. **Frequency (F)**: Contar el número de compras (órdenes) de cada cliente.\n",
    "3. **Monetary (M)**: Sumar el GMV de todas las compras de cada cliente.\n",
    "\n",
    "Además, conservaré las siguientes características para cada cliente:\n",
    "\n",
    "- `ontime_num` promedio.\n",
    "- El último valor de `is_graduated`.\n",
    "- El último valor de `is_kam`.\n",
    "- El último valor de `microzona`.\n",
    "- `birthday`.\n",
    "- `source_id`.\n"
   ]
  },
  {
   "cell_type": "code",
   "execution_count": 1,
   "metadata": {},
   "outputs": [],
   "source": [
    "import pandas as pd\n",
    "import datetime"
   ]
  },
  {
   "cell_type": "code",
   "execution_count": 2,
   "metadata": {},
   "outputs": [
    {
     "data": {
      "text/plain": [
       "(269133, 22)"
      ]
     },
     "execution_count": 2,
     "metadata": {},
     "output_type": "execute_result"
    }
   ],
   "source": [
    "# Cargando el archivo original\n",
    "df_original = pd.read_csv('data/merged_vlp_otd_anonimized.csv', parse_dates=['deliver_date', 'birthday'])\n",
    "df_original.shape"
   ]
  },
  {
   "cell_type": "code",
   "execution_count": 3,
   "metadata": {},
   "outputs": [
    {
     "data": {
      "text/html": [
       "<div>\n",
       "<style scoped>\n",
       "    .dataframe tbody tr th:only-of-type {\n",
       "        vertical-align: middle;\n",
       "    }\n",
       "\n",
       "    .dataframe tbody tr th {\n",
       "        vertical-align: top;\n",
       "    }\n",
       "\n",
       "    .dataframe thead th {\n",
       "        text-align: right;\n",
       "    }\n",
       "</style>\n",
       "<table border=\"1\" class=\"dataframe\">\n",
       "  <thead>\n",
       "    <tr style=\"text-align: right;\">\n",
       "      <th></th>\n",
       "      <th>customer_id</th>\n",
       "      <th>purchase_count</th>\n",
       "    </tr>\n",
       "  </thead>\n",
       "  <tbody>\n",
       "    <tr>\n",
       "      <th>0</th>\n",
       "      <td>1</td>\n",
       "      <td>3</td>\n",
       "    </tr>\n",
       "    <tr>\n",
       "      <th>1</th>\n",
       "      <td>2</td>\n",
       "      <td>9</td>\n",
       "    </tr>\n",
       "    <tr>\n",
       "      <th>2</th>\n",
       "      <td>3</td>\n",
       "      <td>17</td>\n",
       "    </tr>\n",
       "    <tr>\n",
       "      <th>3</th>\n",
       "      <td>4</td>\n",
       "      <td>13</td>\n",
       "    </tr>\n",
       "    <tr>\n",
       "      <th>4</th>\n",
       "      <td>5</td>\n",
       "      <td>19</td>\n",
       "    </tr>\n",
       "  </tbody>\n",
       "</table>\n",
       "</div>"
      ],
      "text/plain": [
       "   customer_id  purchase_count\n",
       "0            1               3\n",
       "1            2               9\n",
       "2            3              17\n",
       "3            4              13\n",
       "4            5              19"
      ]
     },
     "execution_count": 3,
     "metadata": {},
     "output_type": "execute_result"
    }
   ],
   "source": [
    "# Filtrando transacciones de los últimos 3 meses\n",
    "end_date = df_original['deliver_date'].max()\n",
    "start_date = end_date - pd.DateOffset(months=3)\n",
    "df_last_3_months = df_original[df_original['deliver_date'].between(start_date  + datetime.timedelta(days=1), end_date)]\n",
    "\n",
    "# Calculando la frecuencia promedio en días para cada cliente en los últimos 3 meses\n",
    "df_frequency = df_last_3_months.groupby('customer_id').size().reset_index(name='purchase_count')\n",
    "df_frequency.head()"
   ]
  },
  {
   "cell_type": "code",
   "execution_count": 4,
   "metadata": {},
   "outputs": [
    {
     "data": {
      "text/plain": [
       "(8287, 2)"
      ]
     },
     "execution_count": 4,
     "metadata": {},
     "output_type": "execute_result"
    }
   ],
   "source": [
    "all_customers = df_original['customer_id'].unique()\n",
    "missing_customers = set(all_customers) - set(df_frequency['customer_id'])\n",
    "missing_data = pd.DataFrame({'customer_id': list(missing_customers), 'purchase_count': 0})\n",
    "purchase_frequency = pd.concat([df_frequency, missing_data], ignore_index=True)\n",
    "purchase_frequency.rename(columns={'purchase_count':'frequency'})\n",
    "purchase_frequency.shape"
   ]
  },
  {
   "cell_type": "code",
   "execution_count": 5,
   "metadata": {},
   "outputs": [
    {
     "data": {
      "text/html": [
       "<div>\n",
       "<style scoped>\n",
       "    .dataframe tbody tr th:only-of-type {\n",
       "        vertical-align: middle;\n",
       "    }\n",
       "\n",
       "    .dataframe tbody tr th {\n",
       "        vertical-align: top;\n",
       "    }\n",
       "\n",
       "    .dataframe thead th {\n",
       "        text-align: right;\n",
       "    }\n",
       "</style>\n",
       "<table border=\"1\" class=\"dataframe\">\n",
       "  <thead>\n",
       "    <tr style=\"text-align: right;\">\n",
       "      <th></th>\n",
       "      <th>customer_id</th>\n",
       "      <th>recency</th>\n",
       "      <th>monetary</th>\n",
       "      <th>ontime_avg</th>\n",
       "      <th>is_graduated_last</th>\n",
       "      <th>is_kam_last</th>\n",
       "      <th>microzona_last</th>\n",
       "      <th>birthday</th>\n",
       "      <th>last_order</th>\n",
       "      <th>frequency</th>\n",
       "    </tr>\n",
       "  </thead>\n",
       "  <tbody>\n",
       "    <tr>\n",
       "      <th>0</th>\n",
       "      <td>1</td>\n",
       "      <td>16</td>\n",
       "      <td>42.241430</td>\n",
       "      <td>1.00000</td>\n",
       "      <td>True</td>\n",
       "      <td>False</td>\n",
       "      <td>149.0</td>\n",
       "      <td>2021-09-17</td>\n",
       "      <td>2023-03-30</td>\n",
       "      <td>3</td>\n",
       "    </tr>\n",
       "    <tr>\n",
       "      <th>1</th>\n",
       "      <td>2</td>\n",
       "      <td>1</td>\n",
       "      <td>84.172771</td>\n",
       "      <td>1.00000</td>\n",
       "      <td>True</td>\n",
       "      <td>False</td>\n",
       "      <td>121.0</td>\n",
       "      <td>2021-04-09</td>\n",
       "      <td>2023-05-15</td>\n",
       "      <td>9</td>\n",
       "    </tr>\n",
       "    <tr>\n",
       "      <th>2</th>\n",
       "      <td>3</td>\n",
       "      <td>1</td>\n",
       "      <td>63.493172</td>\n",
       "      <td>0.93750</td>\n",
       "      <td>True</td>\n",
       "      <td>False</td>\n",
       "      <td>120.0</td>\n",
       "      <td>2021-01-08</td>\n",
       "      <td>2023-06-27</td>\n",
       "      <td>17</td>\n",
       "    </tr>\n",
       "    <tr>\n",
       "      <th>3</th>\n",
       "      <td>4</td>\n",
       "      <td>5</td>\n",
       "      <td>77.517644</td>\n",
       "      <td>1.00000</td>\n",
       "      <td>False</td>\n",
       "      <td>False</td>\n",
       "      <td>635.0</td>\n",
       "      <td>2022-03-31</td>\n",
       "      <td>2023-08-04</td>\n",
       "      <td>13</td>\n",
       "    </tr>\n",
       "    <tr>\n",
       "      <th>4</th>\n",
       "      <td>5</td>\n",
       "      <td>2</td>\n",
       "      <td>157.325215</td>\n",
       "      <td>0.97619</td>\n",
       "      <td>False</td>\n",
       "      <td>False</td>\n",
       "      <td>347.0</td>\n",
       "      <td>2022-10-07</td>\n",
       "      <td>2023-08-24</td>\n",
       "      <td>19</td>\n",
       "    </tr>\n",
       "  </tbody>\n",
       "</table>\n",
       "</div>"
      ],
      "text/plain": [
       "   customer_id  recency    monetary  ontime_avg  is_graduated_last  \\\n",
       "0            1       16   42.241430     1.00000               True   \n",
       "1            2        1   84.172771     1.00000               True   \n",
       "2            3        1   63.493172     0.93750               True   \n",
       "3            4        5   77.517644     1.00000              False   \n",
       "4            5        2  157.325215     0.97619              False   \n",
       "\n",
       "   is_kam_last  microzona_last   birthday  last_order  frequency  \n",
       "0        False           149.0 2021-09-17  2023-03-30          3  \n",
       "1        False           121.0 2021-04-09  2023-05-15          9  \n",
       "2        False           120.0 2021-01-08  2023-06-27         17  \n",
       "3        False           635.0 2022-03-31  2023-08-04         13  \n",
       "4        False           347.0 2022-10-07  2023-08-24         19  "
      ]
     },
     "execution_count": 5,
     "metadata": {},
     "output_type": "execute_result"
    }
   ],
   "source": [
    "# Calculando Recency, Monetary y otras métricas como antes\n",
    "rfm_corrected = df_original.groupby('customer_id').agg({\n",
    "    'deliver_date': lambda x: (df_original['deliver_date'].max() - x.max()).days,  # Recency\n",
    "    'gmv_on_3': 'mean',  # Monetary\n",
    "    'ontime_num': 'mean',  # ontime_num promedio\n",
    "    'is_graduated': 'last',  # último valor de is_graduated\n",
    "    'is_kam': 'last',  # último valor de is_kam\n",
    "    'microzone_source_id': 'last',  \n",
    "    'birthday': 'first',\n",
    "    'order_close_date':'last' #Last order\n",
    "}).reset_index()\n",
    "\n",
    "# Unimos la frecuencia promedio en días calculada a las métricas RFM\n",
    "rfm_corrected = rfm_corrected.merge(purchase_frequency, on='customer_id', how='left')\n",
    "\n",
    "# Renombrando las columnas\n",
    "rfm_corrected.columns = ['customer_id', 'recency', 'monetary', 'ontime_avg', 'is_graduated_last', 'is_kam_last', 'microzona_last', 'birthday','last_order', 'frequency']\n",
    "rfm_corrected.head()#Por cliente unico"
   ]
  },
  {
   "cell_type": "code",
   "execution_count": 7,
   "metadata": {},
   "outputs": [
    {
     "data": {
      "text/html": [
       "<div>\n",
       "<style scoped>\n",
       "    .dataframe tbody tr th:only-of-type {\n",
       "        vertical-align: middle;\n",
       "    }\n",
       "\n",
       "    .dataframe tbody tr th {\n",
       "        vertical-align: top;\n",
       "    }\n",
       "\n",
       "    .dataframe thead th {\n",
       "        text-align: right;\n",
       "    }\n",
       "</style>\n",
       "<table border=\"1\" class=\"dataframe\">\n",
       "  <thead>\n",
       "    <tr style=\"text-align: right;\">\n",
       "      <th></th>\n",
       "      <th>customer_id</th>\n",
       "      <th>R</th>\n",
       "      <th>F</th>\n",
       "      <th>M</th>\n",
       "      <th>RFM_Score</th>\n",
       "    </tr>\n",
       "  </thead>\n",
       "  <tbody>\n",
       "    <tr>\n",
       "      <th>0</th>\n",
       "      <td>1</td>\n",
       "      <td>3</td>\n",
       "      <td>2</td>\n",
       "      <td>2</td>\n",
       "      <td>7</td>\n",
       "    </tr>\n",
       "    <tr>\n",
       "      <th>1</th>\n",
       "      <td>2</td>\n",
       "      <td>5</td>\n",
       "      <td>3</td>\n",
       "      <td>4</td>\n",
       "      <td>12</td>\n",
       "    </tr>\n",
       "    <tr>\n",
       "      <th>2</th>\n",
       "      <td>3</td>\n",
       "      <td>5</td>\n",
       "      <td>4</td>\n",
       "      <td>3</td>\n",
       "      <td>12</td>\n",
       "    </tr>\n",
       "    <tr>\n",
       "      <th>3</th>\n",
       "      <td>4</td>\n",
       "      <td>4</td>\n",
       "      <td>4</td>\n",
       "      <td>4</td>\n",
       "      <td>12</td>\n",
       "    </tr>\n",
       "    <tr>\n",
       "      <th>4</th>\n",
       "      <td>5</td>\n",
       "      <td>4</td>\n",
       "      <td>5</td>\n",
       "      <td>5</td>\n",
       "      <td>14</td>\n",
       "    </tr>\n",
       "  </tbody>\n",
       "</table>\n",
       "</div>"
      ],
      "text/plain": [
       "   customer_id  R  F  M  RFM_Score\n",
       "0            1  3  2  2          7\n",
       "1            2  5  3  4         12\n",
       "2            3  5  4  3         12\n",
       "3            4  4  4  4         12\n",
       "4            5  4  5  5         14"
      ]
     },
     "execution_count": 7,
     "metadata": {},
     "output_type": "execute_result"
    }
   ],
   "source": [
    "# Definiendo funciones para asignar scores basados en percentiles\n",
    "def r_score(x, percentile_dict):\n",
    "    \"\"\"Asignar score para Recency.\"\"\"\n",
    "    if x <= percentile_dict[0.2]:\n",
    "        return 5\n",
    "    elif x <= percentile_dict[0.4]:\n",
    "        return 4\n",
    "    elif x <= percentile_dict[0.6]:\n",
    "        return 3\n",
    "    elif x <= percentile_dict[0.8]:\n",
    "        return 2\n",
    "    else:\n",
    "        return 1\n",
    "\n",
    "def fm_score(x, percentile_dict):\n",
    "    \"\"\"Asignar score para Frequency y Monetary.\"\"\"\n",
    "    if x <= percentile_dict[0.2]:\n",
    "        return 1\n",
    "    elif x <= percentile_dict[0.4]:\n",
    "        return 2\n",
    "    elif x <= percentile_dict[0.6]:\n",
    "        return 3\n",
    "    elif x <= percentile_dict[0.8]:\n",
    "        return 4\n",
    "    else:\n",
    "        return 5\n",
    "\n",
    "# Calcular percentiles para Recency, Frequency, y Monetary\n",
    "percentiles = rfm_corrected[['recency', 'frequency', 'monetary']].quantile(q=[0.2, 0.4, 0.6, 0.8]).to_dict()\n",
    "\n",
    "# Asignar scores R, F, y M a cada cliente\n",
    "rfm_corrected['R'] = rfm_corrected['recency'].apply(r_score, args=(percentiles['recency'],))\n",
    "rfm_corrected['F'] = rfm_corrected['frequency'].apply(fm_score, args=(percentiles['frequency'],))\n",
    "rfm_corrected['M'] = rfm_corrected['monetary'].apply(fm_score, args=(percentiles['monetary'],))\n",
    "\n",
    "# Calcular el score RFM total (suma de R, F, y M)\n",
    "rfm_corrected['RFM_Score'] = rfm_corrected['R'] + rfm_corrected['F'] + rfm_corrected['M']\n",
    "\n",
    "rfm_corrected[['customer_id', 'R', 'F', 'M', 'RFM_Score']].head()\n"
   ]
  },
  {
   "cell_type": "markdown",
   "metadata": {},
   "source": [
    "# Segmentación de Clientes basada en Scores RFM\n",
    "\n",
    "## Descripción de Segmentos\n",
    "\n",
    "### 1. Clientes VIP\n",
    "- **Descripción**: Estos son clientes que han comprado recientemente, compran con frecuencia y gastan mucho.\n",
    "- **Características**: Alto en Recency, Frequency y Monetary.\n",
    "\n",
    "### 2. Clientes Leales\n",
    "- **Descripción**: Estos clientes compran con frecuencia y han gastado una cantidad decente, pero no han comprado tan recientemente como los VIP.\n",
    "- **Características**: Medio-Alto en Recency, Alto en Frequency y Monetary.\n",
    "\n",
    "### 3. Clientes en Riesgo\n",
    "- **Descripción**: Estos clientes solían comprar con frecuencia y gastar, pero ha pasado algún tiempo desde su última compra.\n",
    "- **Características**: Bajo en Recency, Medio en Frequency y Monetary.\n",
    "\n",
    "### 4. Clientes Churneados/Zombies\n",
    "- **Descripción**: Estos son clientes que no han comprado en mucho tiempo, pero en algún momento tuvieron alguna frecuencia de compra y gasto.\n",
    "- **Características**: Muy bajo en Recency, Bajo en Frequency y Monetary.\n",
    "\n",
    "\n",
    "\n",
    "## Descubrimientos de los Segmentos\n",
    "\n",
    "1. **Clientes VIP**: Representan 2.048 clientes. Tienen una recencia baja, una alta frecuencia y un alto valor monetario. \n",
    "2. **Clientes Leales**: Representan 1.989 clientes. Su recencia es un poco más alta, pero aún tienen una buena frecuencia y valor monetario.\n",
    "3. **Clientes en Riesgo**: Representan 2.126 clientes. Tienen una recencia y frecuencia moderadas y un valor monetario intermedio.\n",
    "4. **Clientes Churneados/Zombies**: Representan 2.124 clientes. No han comprado en mucho tiempo, pero en algún momento tuvieron frecuencia y gasto.\n",
    "\n",
    "Estos segmentos nos permiten abordar estrategias específicas para cada grupo y entender mejor las características y necesidades de cada segmento.\n"
   ]
  },
  {
   "cell_type": "markdown",
   "metadata": {},
   "source": [
    "#### Etiquetando clientes churneados"
   ]
  },
  {
   "cell_type": "code",
   "execution_count": null,
   "metadata": {},
   "outputs": [],
   "source": [
    "# Calcular el stock de seguridad basado en la frecuencia de compra\n",
    "rfm_corrected['stock_seguridad'] = rfm_corrected['frequency'] * 0.25\n",
    "\n",
    "# Establecer el umbral de churn como la `recency` más el `stock_seguridad`\n",
    "rfm_corrected['umbral_churn'] = rfm_corrected['frequency'] + rfm_corrected['stock_seguridad']\n",
    "\n",
    "# Identificar clientes churneados\n",
    "# Aquí simplemente estamos marcando como churneado a aquellos cuya recency es mayor que el umbral.\n",
    "rfm_corrected['churned'] = (rfm_corrected['recency'] > rfm_corrected['umbral_churn'])\n",
    "\n",
    "\n"
   ]
  },
  {
   "cell_type": "code",
   "execution_count": null,
   "metadata": {},
   "outputs": [],
   "source": [
    "rfm_corrected.churned.value_counts()"
   ]
  },
  {
   "cell_type": "code",
   "execution_count": null,
   "metadata": {},
   "outputs": [],
   "source": [
    "# Ahora, segmenta a los clientes\n",
    "bins = pd.qcut(rfm_corrected[~rfm_corrected['churned']]['RFM_Score'], q=3, labels=['C', 'B', 'A'])  \n",
    "rfm_corrected.loc[~rfm_corrected['churned'], 'Segment'] = bins\n",
    "\n",
    "# Convertir la columna 'Segment' a tipo string (no categórico)\n",
    "rfm_corrected['Segment'] = rfm_corrected['Segment'].astype(str)\n",
    "\n",
    "# Para clientes churneados, asignarles la categoría 'D'\n",
    "rfm_corrected.loc[rfm_corrected['churned'], 'Segment'] = 'D'\n",
    "\n",
    "# Cambiando los nombres de los segmentos para que sean más descriptivos\n",
    "segment_mapping = {\n",
    "    'A': 'Clientes VIP',\n",
    "    'B': 'Clientes Leales',\n",
    "    'C': 'Clientes en Riesgo/Zombies',\n",
    "    'D': 'Clientes Churneados'\n",
    "}\n",
    "rfm_corrected['Segment'] = rfm_corrected['Segment'].map(segment_mapping)\n",
    "\n",
    "# Mostrando el conteo de clientes en cada nuevo segmento\n",
    "new_segment_counts = rfm_corrected['Segment'].value_counts().sort_index()\n",
    "new_segment_counts\n"
   ]
  },
  {
   "cell_type": "markdown",
   "metadata": {},
   "source": [
    "## Análisis de Life Time Value (LTV), GMV promedio y frecuencia promedio de compra.\n",
    "\n",
    "- LTV: Representa el valor neto proyectado de un cliente a lo largo de toda su relación con el negocio. Se calcula multiplicando el GMV promedio por la frecuencia promedio de compra y por el promedio de tiempo que un cliente sigue siendo cliente.\n",
    "- GMV promedio: Es el ingreso bruto promedio que un cliente genera.\n",
    "- Frecuencia promedio de compra: Es el número promedio de veces que un cliente hace una compra en un período determinado."
   ]
  },
  {
   "cell_type": "markdown",
   "metadata": {},
   "source": [
    "Hemos asignado scores RFM a cada cliente:\n",
    "\n",
    "*R*: Score para Recency. Un valor más alto indica una recencia mayor (es decir, el cliente ha hecho una compra más recientemente).  \n",
    "*F*: Score para Frequency. Un valor más alto indica una mayor frecuencia de compras en los ultimos 3 meses. \n",
    "*M*: Score para Monetary. Un valor más alto indica un gasto promedio más alto por parte del cliente  \n",
    "*RFM_Score*: Es la suma total de los scores R, F y M.  \n",
    "Con estos scores, podemos comenzar a segmentar a los clientes en diferentes grupos y responder preguntas de negocio relevantes.  \n",
    "\n",
    "Algunas preguntas de negocio que podríamos abordar incluyen:"
   ]
  },
  {
   "cell_type": "code",
   "execution_count": null,
   "metadata": {},
   "outputs": [],
   "source": [
    "# Calcular la duración promedio de un cliente usando rfm_corrected\n",
    "rfm_corrected['customer_duration'] = (pd.to_timedelta(rfm_corrected['last_order'] - pd.to_timedelta(rfm_corrected['recency'], unit='D'))) #arreglar\n",
    "\n",
    "# Calcular LTV (Life Time Value) para cada cliente\n",
    "# LTV se calcula como GMV promedio multiplicado por frecuencia promedio de compra\n",
    "rfm_corrected['LTV'] = rfm_corrected['monetary'] * rfm_corrected['frequency']\n",
    "\n",
    "# Calculando valores promedio a nivel general\n",
    "avg_LTV = rfm_corrected['LTV'].mean()\n",
    "avg_GMV = rfm_corrected['monetary'].mean()\n",
    "avg_frequency = rfm_corrected['frequency'].mean()\n",
    "avg_customer_duration = rfm_corrected['customer_duration'].mean()\n",
    "\n",
    "avg_LTV, avg_GMV, avg_frequency, avg_customer_duration"
   ]
  },
  {
   "cell_type": "markdown",
   "metadata": {},
   "source": [
    "1. Life Time Value (LTV) Promedio: El LTV promedio es de aproximadamente $1171. Esto significa que, en promedio, se espera que un cliente aporte $1171 en valor a lo largo de su tiempo como cliente.\n",
    "2. GMV Promedio: El valor promedio de GMV por compra es de aproximadamente $84.\n",
    "3. Frecuencia Promedio de Compra: En promedio, un cliente realiza aproximadamente 11.5 compras.\n",
    "4. Duración Promedio del Cliente: La duración promedio de un cliente (tiempo entre el registro y la última orden) es de aproximadamente 175.36 días."
   ]
  },
  {
   "cell_type": "markdown",
   "metadata": {},
   "source": [
    "# STORAGE IN CSV"
   ]
  },
  {
   "cell_type": "code",
   "execution_count": null,
   "metadata": {},
   "outputs": [],
   "source": [
    "rfm_corrected"
   ]
  },
  {
   "cell_type": "code",
   "execution_count": null,
   "metadata": {},
   "outputs": [],
   "source": [
    "rfm_corrected.to_csv('data/rfm.csv')"
   ]
  }
 ],
 "metadata": {
  "kernelspec": {
   "display_name": "base",
   "language": "python",
   "name": "python3"
  },
  "language_info": {
   "codemirror_mode": {
    "name": "ipython",
    "version": 3
   },
   "file_extension": ".py",
   "mimetype": "text/x-python",
   "name": "python",
   "nbconvert_exporter": "python",
   "pygments_lexer": "ipython3",
   "version": "3.9.7"
  },
  "orig_nbformat": 4
 },
 "nbformat": 4,
 "nbformat_minor": 2
}
